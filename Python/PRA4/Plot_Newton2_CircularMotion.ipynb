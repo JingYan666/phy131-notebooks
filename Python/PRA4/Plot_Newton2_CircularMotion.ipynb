{
 "cells": [
  {
   "cell_type": "code",
   "execution_count": 1,
   "metadata": {},
   "outputs": [],
   "source": [
    "########################################################\n",
    "# Plot_Newton2_CircularMotion\n",
    "#\n",
    "# This notebook calculates the two sides of Newton's \n",
    "# second law for circular motion, and plots them on the\n",
    "# same axis against trial number. \n",
    "#\n",
    "#\n",
    "########################################################\n",
    "#### -------------- IMPORT BLOCK ------------------ ####\n",
    "# In this section we import important Python packages. #\n",
    "\n",
    "import numpy as np # NumPy, a numerical Python package, is used for representing numerical data\n",
    "import matplotlib.pyplot as plt # Matplotlib, a Python plotting package, is used for plotting data. \n",
    "import matplotlib\n",
    "font = {'size'   : 12}\n",
    "\n",
    "matplotlib.rc('font', **font)"
   ]
  },
  {
   "cell_type": "code",
   "execution_count": 2,
   "metadata": {},
   "outputs": [],
   "source": [
    "### -------(!!!) INPUT DATA (!!!) ----------- ###\n",
    "### You may change these variables as needed. ###\n",
    "\n",
    "# The input data section takes two forms: position or acceleration,\n",
    "# depending on your experimental design. Your TA should have let you\n",
    "# know which file to be using.\n",
    "\n",
    "# YOUR_NAME:\n",
    "#\n",
    "# Your name. This will help distinguish your plots.\n",
    "NAME = \"Emily Tyhurst\"\n",
    "\n",
    "# DATA_FILENAME:\n",
    "#\n",
    "# The name of the file containing your circular motion data.\n",
    "# \n",
    "# Your file should be a comma-separated value file with the\n",
    "# following colums:\n",
    "#\n",
    "# Trial #, Period (s), Radius (m), Force (N), Angle (deg) \n",
    "#\n",
    "DATA_FILENAME=\"data_circular.csv\"  \n",
    "\n",
    "\n",
    "# ANGLE_FORM:\n",
    "#\n",
    "# For your last column, you inputted an angle measurement. According to\n",
    "# the following diagram, which angle did you measure?\n",
    "#\n",
    "#   -------------------------------------------- (CEILING)\n",
    "#                        *\n",
    "#                        -  *\n",
    "#                        - T   * \n",
    "#                        -        *\n",
    "#                        -           *\n",
    "#                        -              *\n",
    "#                        -              A  *\n",
    "#                        - - - - - - - - -(AIRPLANE)\n",
    "#                        \n",
    "#                        \n",
    "\n",
    "ANGLE_FORM = \"T\" # Enter T for theta, the angle from the vertical. Enter A for Alpha, the angle from the horizontal.\n"
   ]
  },
  {
   "cell_type": "code",
   "execution_count": 3,
   "metadata": {},
   "outputs": [],
   "source": [
    "#### ------------- DATA LOAD BLOCK ------------------- ####\n",
    "# In this section we import CSV files from your Practical #\n",
    "# and load them into NumPy arrays.                        #\n",
    "\n",
    "# Use NumPy to load the data from the CSV file\n",
    "all_data = np.genfromtxt(DATA_FILENAME, delimiter=',', comments='#',skip_header=True)\n",
    "\n",
    "# Separate the data into position and time \n",
    "trial=  all_data[:,0] # trial number\n",
    "period = all_data[:,1] # period in s\n",
    "radius = all_data[:,2] # radius in m\n",
    "tension = all_data[:,3] # force in N\n",
    "angle = all_data[:,4] # angle in deg\n",
    "\n",
    "# Calculate the RHS of Newton's Second Law for Circular Motion (force)\n",
    "\n",
    "if (ANGLE_FORM== \"T\"):\n",
    "    mass = (tension*np.cos(angle*np.pi/180))/9.8\n",
    "elif (ANGLE_FORM== \"A\"):\n",
    "    mass = (tension*np.sin(angle*np.pi/180))/9.8\n",
    "else:\n",
    "    print(\"Please enter T or A for your angle form.\")\n",
    "    \n",
    "speed_c= 2*np.pi*radius/period\n",
    "\n",
    "RHS = speed_c**2/radius*mass\n",
    "\n",
    "# Calculate the LHS of Newton's Second Law for Circular Motion (force)\n",
    "\n",
    "if (ANGLE_FORM== \"T\"):\n",
    "    LHS = np.sin(angle*np.pi/180)*tension\n",
    "elif (ANGLE_FORM== \"A\"):\n",
    "    LHS = np.cos(angle*np.pi/180)*tension\n",
    "else:\n",
    "    print(\"ERROR. Please enter T or A for your angle form.\")\n",
    "\n"
   ]
  },
  {
   "cell_type": "code",
   "execution_count": 4,
   "metadata": {},
   "outputs": [
    {
     "data": {
      "image/png": "[encoded data removed]",
      "text/plain": [
       "<Figure size 432x288 with 1 Axes>"
      ]
     },
     "metadata": {
      "needs_background": "light"
     },
     "output_type": "display_data"
    },
    {
     "data": {
      "text/plain": [
       "<Figure size 432x288 with 0 Axes>"
      ]
     },
     "metadata": {},
     "output_type": "display_data"
    }
   ],
   "source": [
    "#### ------------- PLOTTING BLOCK ------------------- ####\n",
    "# In this section we plot the data from your experiment. #\n",
    "# Here we are plotting the force of the two sides.  #\n",
    "\n",
    "plt.plot(trial, RHS, 'b.', label=\"Mass Times Radial Acceleration\")\n",
    "plt.plot(trial, LHS, 'r.', label= \"Radial Force\")\n",
    "plt.title(NAME+\": Application of Newton's Law of Circular Motion\")\n",
    "plt.xlabel(\"Trial #\")\n",
    "plt.ylabel(\"Force (N)\")\n",
    "plt.grid()\n",
    "plt.legend()\n",
    "plt.savefig(NAME.replace(\" \",\"_\")+\"_Newton_Circular_Data.png\")\n",
    "plt.show()\n",
    "plt.clf()\n"
   ]
  },
  {
   "cell_type": "code",
   "execution_count": 6,
   "metadata": {},
   "outputs": [
    {
     "data": {
      "image/png": "[encoded data removed]",
      "text/plain": [
       "<Figure size 432x288 with 1 Axes>"
      ]
     },
     "metadata": {
      "needs_background": "light"
     },
     "output_type": "display_data"
    }
   ],
   "source": [
    "#### ---------- DEVIATION BLOCK ---------- ####\n",
    "# In this section we compare the data from your experiment #\n",
    "# to determine more precisely if the hypothesis is true.   #\n",
    "\n",
    "rmsd_motion= np.sqrt(np.mean((LHS-RHS)**2))\n",
    "\n",
    "plt.plot(trial, LHS- RHS, 'g.', label=\"Deviation $(N)$\")\n",
    "plt.text(2,0, \"Root Mean Square Deviation: {:.2f}\".format(rmsd_motion))\n",
    "plt.title(NAME+\": Force Deviation\")\n",
    "plt.xlabel(\"Trial #\")\n",
    "plt.ylabel(\"Force $(N)$\")\n",
    "plt.grid()\n",
    "plt.legend()\n",
    "plt.savefig(NAME.replace(\" \",\"_\")+\"_Circular_Motion_Deviation.png\")\n",
    "plt.show()\n"
   ]
  },
  {
   "cell_type": "code",
   "execution_count": null,
   "metadata": {},
   "outputs": [],
   "source": []
  },
  {
   "cell_type": "code",
   "execution_count": null,
   "metadata": {},
   "outputs": [],
   "source": []
  }
 ],
 "metadata": {
  "kernelspec": {
   "display_name": "Python 3",
   "language": "python",
   "name": "python3"
  },
  "language_info": {
   "codemirror_mode": {
    "name": "ipython",
    "version": 3
   },
   "file_extension": ".py",
   "mimetype": "text/x-python",
   "name": "python",
   "nbconvert_exporter": "python",
   "pygments_lexer": "ipython3",
   "version": "3.6.9"
  }
 },
 "nbformat": 4,
 "nbformat_minor": 2
}
